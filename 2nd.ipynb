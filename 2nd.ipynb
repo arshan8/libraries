{
 "cells": [
  {
   "cell_type": "code",
   "execution_count": 12,
   "metadata": {},
   "outputs": [
    {
     "name": "stdout",
     "output_type": "stream",
     "text": [
      "[[[0.78593231 0.55117196 0.2438882 ]\n",
      "  [0.33445321 0.3186902  0.39015401]]\n",
      "\n",
      " [[0.80130068 0.09080164 0.37362439]\n",
      "  [0.7913229  0.75867146 0.60397504]]\n",
      "\n",
      " [[0.13074783 0.35984468 0.87080485]\n",
      "  [0.97813312 0.70718115 0.16087298]]\n",
      "\n",
      " [[0.87852274 0.16189544 0.33938701]\n",
      "  [0.35322257 0.38815248 0.11597432]]]\n"
     ]
    }
   ],
   "source": [
    "import numpy   #not sufficient to import default rng idk why\n",
    "from numpy.random import default_rng\n",
    "print(default_rng(77).random((4,2,3)))"
   ]
  },
  {
   "cell_type": "code",
   "execution_count": 25,
   "metadata": {},
   "outputs": [
    {
     "data": {
      "text/plain": [
       "array([6, 0, 9])"
      ]
     },
     "execution_count": 25,
     "metadata": {},
     "output_type": "execute_result"
    }
   ],
   "source": [
    "xi = numpy.random.rand(5,15)  #try randint\n",
    "x = numpy.array([2,5,8,9,8,7,88,9,6,0])\n",
    "keys = numpy.random.choice(x,size = 3, replace = False)\n",
    "keys"
   ]
  },
  {
   "cell_type": "code",
   "execution_count": 30,
   "metadata": {},
   "outputs": [
    {
     "data": {
      "text/plain": [
       "array([[7.49772916e-01, 6.92610078e-01, 6.25276170e-01, 3.28667353e-01,\n",
       "        6.47832036e-01, 3.99071905e-04, 9.88822112e-01, 4.47351529e-01,\n",
       "        2.48474428e-01, 3.98346495e-01, 4.23948975e-02, 9.61540794e-01,\n",
       "        2.45704255e-01, 3.45517599e-01, 6.84341621e-01],\n",
       "       [1.97156448e-01, 9.42603411e-01, 9.73798123e-01, 7.26717334e-01,\n",
       "        9.92055874e-01, 2.59420515e-01, 2.95844587e-01, 1.70851435e-01,\n",
       "        1.26651166e-01, 7.19402968e-02, 9.24861175e-01, 3.15731900e-02,\n",
       "        7.77567629e-01, 9.43115501e-01, 2.75066437e-01],\n",
       "       [5.14070820e-02, 9.74549017e-01, 4.74786102e-01, 4.89399996e-01,\n",
       "        2.80047516e-01, 2.97075310e-01, 7.87366193e-01, 7.07563920e-02,\n",
       "        4.10674943e-01, 2.52276874e-01, 3.13933505e-01, 1.57353272e-01,\n",
       "        6.66349942e-01, 2.85481394e-02, 8.34493666e-01],\n",
       "       [7.59165191e-01, 2.79802207e-01, 1.01726666e-01, 7.76852144e-01,\n",
       "        6.75655645e-01, 4.88614321e-01, 6.34459415e-02, 7.73930737e-01,\n",
       "        9.39108572e-01, 4.69241385e-01, 7.93880639e-01, 6.38133719e-01,\n",
       "        1.22474864e-01, 5.30179702e-01, 2.54914265e-01],\n",
       "       [6.74359372e-01, 8.38381500e-01, 5.06338831e-01, 5.20616890e-02,\n",
       "        2.30066963e-02, 8.20152642e-01, 2.26699004e-01, 3.42463475e-01,\n",
       "        5.01191077e-01, 1.44548921e-01, 1.30686617e-01, 2.94665145e-01,\n",
       "        5.45803754e-01, 7.53412260e-01, 5.99549767e-02]])"
      ]
     },
     "execution_count": 30,
     "metadata": {},
     "output_type": "execute_result"
    }
   ],
   "source": [
    "\n",
    "xi"
   ]
  },
  {
   "cell_type": "code",
   "execution_count": 35,
   "metadata": {},
   "outputs": [
    {
     "data": {
      "text/plain": [
       "array([ 6,  0,  8,  8,  7,  2,  9,  5, 88,  9])"
      ]
     },
     "execution_count": 35,
     "metadata": {},
     "output_type": "execute_result"
    }
   ],
   "source": [
    "numpy.random.shuffle(x)  #shuffle works in inplace\n",
    "x"
   ]
  },
  {
   "cell_type": "code",
   "execution_count": 45,
   "metadata": {},
   "outputs": [
    {
     "data": {
      "text/plain": [
       "array([[1., 0., 8., 0.],\n",
       "       [0., 1., 0., 8.],\n",
       "       [0., 0., 1., 1.],\n",
       "       [0., 0., 1., 1.]])"
      ]
     },
     "execution_count": 45,
     "metadata": {},
     "output_type": "execute_result"
    }
   ],
   "source": [
    "A = numpy.eye(2)\n",
    "B = numpy.diag([8,8])\n",
    "r = numpy.block([A,B])\n",
    "cc = numpy.zeros((2,2))\n",
    "d = numpy.ones((2,2))\n",
    "\n",
    "g = numpy.block([[A,B],[cc,d]])\n",
    "g"
   ]
  },
  {
   "cell_type": "code",
   "execution_count": 51,
   "metadata": {},
   "outputs": [
    {
     "data": {
      "text/plain": [
       "array([[1., 0., 8., 0., 0., 0.],\n",
       "       [0., 1., 0., 8., 0., 0.]])"
      ]
     },
     "execution_count": 51,
     "metadata": {},
     "output_type": "execute_result"
    }
   ],
   "source": [
    "numpy.vstack((A,B,cc))\n",
    "numpy.hstack((A,B,cc))"
   ]
  },
  {
   "cell_type": "code",
   "execution_count": 55,
   "metadata": {},
   "outputs": [
    {
     "data": {
      "text/plain": [
       "array([[1., 0., 0., 1., 0., 0., 1., 0., 0., 1., 0., 0.],\n",
       "       [0., 1., 0., 0., 1., 0., 0., 1., 0., 0., 1., 0.],\n",
       "       [0., 0., 1., 0., 0., 1., 0., 0., 1., 0., 0., 1.],\n",
       "       [1., 0., 0., 1., 0., 0., 1., 0., 0., 1., 0., 0.],\n",
       "       [0., 1., 0., 0., 1., 0., 0., 1., 0., 0., 1., 0.],\n",
       "       [0., 0., 1., 0., 0., 1., 0., 0., 1., 0., 0., 1.]])"
      ]
     },
     "execution_count": 55,
     "metadata": {},
     "output_type": "execute_result"
    }
   ],
   "source": [
    "mat = numpy.eye(3,3)\n",
    "mat\n",
    "x = numpy.tile(mat, (2,4)) #  4 mat is col and 2 such row\n",
    "x"
   ]
  },
  {
   "cell_type": "code",
   "execution_count": 58,
   "metadata": {},
   "outputs": [
    {
     "data": {
      "text/plain": [
       "array([1., 1., 1., 0., 0., 0., 0., 0., 0., 0., 0., 0., 1., 1., 1., 0., 0.,\n",
       "       0., 0., 0., 0., 0., 0., 0., 1., 1., 1.])"
      ]
     },
     "execution_count": 58,
     "metadata": {},
     "output_type": "execute_result"
    }
   ],
   "source": [
    "numpy.repeat(mat, 1)\n",
    "numpy.repeat(mat,3)  #for over sampling in ML from dataset,\n",
    "#first flattens and then repeats k times"
   ]
  },
  {
   "cell_type": "code",
   "execution_count": 62,
   "metadata": {},
   "outputs": [
    {
     "data": {
      "text/plain": [
       "array([[[ 0,  1],\n",
       "        [ 2,  3],\n",
       "        [ 4,  5]],\n",
       "\n",
       "       [[ 6,  7],\n",
       "        [ 8,  9],\n",
       "        [10, 11]],\n",
       "\n",
       "       [[12, 13],\n",
       "        [14, 15],\n",
       "        [16, 17]],\n",
       "\n",
       "       [[18, 19],\n",
       "        [20, 21],\n",
       "        [22, 23]]])"
      ]
     },
     "execution_count": 62,
     "metadata": {},
     "output_type": "execute_result"
    }
   ],
   "source": [
    "go2 = numpy.arange(4*3*2) #just to make repsahe easy\n",
    "lol = go2.reshape(4,3,2)\n",
    "lol"
   ]
  }
 ],
 "metadata": {
  "kernelspec": {
   "display_name": "Python 3",
   "language": "python",
   "name": "python3"
  },
  "language_info": {
   "codemirror_mode": {
    "name": "ipython",
    "version": 3
   },
   "file_extension": ".py",
   "mimetype": "text/x-python",
   "name": "python",
   "nbconvert_exporter": "python",
   "pygments_lexer": "ipython3",
   "version": "3.12.8"
  }
 },
 "nbformat": 4,
 "nbformat_minor": 2
}
