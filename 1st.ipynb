{
 "cells": [
  {
   "cell_type": "code",
   "execution_count": 1,
   "metadata": {},
   "outputs": [
    {
     "name": "stdout",
     "output_type": "stream",
     "text": [
      "<class 'list'>\n",
      "<class 'numpy.ndarray'>\n",
      "[ 1  4  9 16]\n"
     ]
    }
   ],
   "source": [
    "import numpy as np\n",
    "\n",
    "\n",
    "arr = [1,2,3,4]\n",
    "print(type(arr))  #list\n",
    "\n",
    "n_arr = np.array(arr)\n",
    "print(type(n_arr))  #'numpy.ndarray\n",
    "\n",
    "#best:\n",
    "n_arr2 = np.array([1,2,3,4])\n",
    "\n",
    "\n",
    "print(n_arr * n_arr2)  #direct multiply, not available for list\n",
    "#for list we need for loop, and this direct is much fasetr\n",
    "\n",
    "\n",
    "\n"
   ]
  },
  {
   "cell_type": "code",
   "execution_count": null,
   "metadata": {},
   "outputs": [],
   "source": []
  },
  {
   "cell_type": "code",
   "execution_count": 31,
   "metadata": {},
   "outputs": [
    {
     "name": "stdout",
     "output_type": "stream",
     "text": [
      "for list :0.0010981559753417969\n",
      "for nparray :0.0006096363067626953\n"
     ]
    }
   ],
   "source": [
    "import time\n",
    "\n",
    "\n",
    "st = time.time()\n",
    "L = range(10000)\n",
    "c = [i**2 for i in L]\n",
    "en = time.time()\n",
    "\n",
    "print(f\"for list :{en-st}\")\n",
    "\n",
    "st = time.time()\n",
    "L = np.arange(1000)\n",
    "L**2\n",
    "en = time.time()\n",
    "\n",
    "print(f\"for nparray :{en-st}\")"
   ]
  },
  {
   "cell_type": "code",
   "execution_count": 4,
   "metadata": {},
   "outputs": [
    {
     "name": "stdout",
     "output_type": "stream",
     "text": [
      "unsigned c: [-3 -3 -3] int64\n"
     ]
    },
    {
     "data": {
      "text/plain": [
       "'Why does a - b give a wrong (large positive) result?\\nData Type of a and b:\\n\\nBoth a and b are np.uint32 (unsigned 32-bit integers).\\nUnsigned Arithmetic in numpy:\\n\\nWhen you subtract b from a (both of type np.uint32), numpy performs the operation in the unsigned domain.\\n\\nIf b has larger values than a, the result of a - b under unsigned arithmetic will \"wrap around.\"\\n\\nFor example:\\nfor 2 - 5\\n\\n2 - 5 = -3  # Signed result\\nIn unsigned 32-bit arithmetic, this wraps around:\\n-3 + 2^32 = 4294967293\\n\\nThis behavior is expected when working with unsigned integers.'"
      ]
     },
     "execution_count": 4,
     "metadata": {},
     "output_type": "execute_result"
    }
   ],
   "source": [
    "\n",
    "\n",
    "#uint32 range: 0 to 2^32 - 1\n",
    "#signed int32 range: -2^31 to 2^31-1   (reason of 31 instead of 32 in power is because 1 bit is for signedd number)\n",
    "\n",
    "\n",
    "a = np.array([2, 3, 4], dtype=np.uint32)\n",
    "b = np.array([5, 6, 7], dtype=np.uint32)\n",
    "c_unsigned32 = a - b#wrong output ? why write here only\n",
    "c_unsigned32 = a - b.astype(np.int64) #correct output\n",
    "print('unsigned c:', c_unsigned32, c_unsigned32.dtype)\n",
    "\n",
    "\n",
    "\"\"\"Why does a - b give a wrong (large positive) result?\n",
    "Data Type of a and b:\n",
    "\n",
    "Both a and b are np.uint32 (unsigned 32-bit integers).\n",
    "Unsigned Arithmetic in numpy:\n",
    "\n",
    "When you subtract b from a (both of type np.uint32), numpy performs the operation in the unsigned domain.\n",
    "\n",
    "If b has larger values than a, the result of a - b under unsigned arithmetic will \"wrap around.\"\n",
    "\n",
    "For example:\n",
    "for 2 - 5\n",
    "\n",
    "2 - 5 = -3  # Signed result\n",
    "In unsigned 32-bit arithmetic, this wraps around:\n",
    "-3 + 2^32 = 4294967293\n",
    "\n",
    "This behavior is expected when working with unsigned integers.\"\"\""
   ]
  },
  {
   "cell_type": "code",
   "execution_count": 14,
   "metadata": {},
   "outputs": [
    {
     "data": {
      "text/plain": [
       "array([2.        , 2.22222222, 2.44444444, 2.66666667, 2.88888889,\n",
       "       3.11111111, 3.33333333, 3.55555556, 3.77777778, 4.        ])"
      ]
     },
     "execution_count": 14,
     "metadata": {},
     "output_type": "execute_result"
    }
   ],
   "source": [
    "np.linspace(2,4,10,dtype = float )\n",
    "\n",
    "# The advantage of linspace creation function is that you guarantee the number of elements and \n",
    "# the starting and end point.  arange(start, stop, step) will not include the value stop.\n",
    "\n"
   ]
  },
  {
   "cell_type": "code",
   "execution_count": 6,
   "metadata": {},
   "outputs": [
    {
     "data": {
      "text/plain": [
       "6"
      ]
     },
     "execution_count": 6,
     "metadata": {},
     "output_type": "execute_result"
    }
   ],
   "source": [
    "#2d array\n",
    "#eye: identity matrix\n",
    "\n",
    "z = np.eye(6,7, dtype = np.int32)\n",
    "z\n",
    "\n",
    "#diag : numpy.diag(v, k=0)\n",
    "#: If v is a 2-D array, return a copy of its k-th diagonal. If v is a 1-D array, return a 2-D array with v on the k-th diagonal.\n",
    "\n",
    "np.diag([[1,2,3],[2,4,5]],k = 2)  #k is optional, if k = 1, its next diagnoal. better keep it zero\n",
    "np.diag([1,2,434,6])\n",
    "np.diag(z)\n",
    "z\n",
    "\n",
    "#trace:Sum along diagonals.\n",
    "np.trace(z)"
   ]
  },
  {
   "cell_type": "code",
   "execution_count": 17,
   "metadata": {},
   "outputs": [
    {
     "data": {
      "text/plain": [
       "array([[ 1,  1,  1],\n",
       "       [ 4,  2,  1],\n",
       "       [16,  4,  1],\n",
       "       [25,  5,  1],\n",
       "       [49,  7,  1]])"
      ]
     },
     "execution_count": 17,
     "metadata": {},
     "output_type": "execute_result"
    }
   ],
   "source": [
    "np.vander([1,2,4,5,7],2)\n",
    "np.vander([1,2,4,5,7],3)\n",
    "#multiplies previous row ...square, cube ..but if k = 1, itll be [1,1,1,1,1] vertically no matter whats in first parameter"
   ]
  },
  {
   "cell_type": "code",
   "execution_count": 53,
   "metadata": {},
   "outputs": [
    {
     "data": {
      "text/plain": [
       "array([[[0., 0., 0., 0., 0., 0., 0., 0., 0.],\n",
       "        [0., 0., 0., 0., 0., 0., 0., 0., 0.],\n",
       "        [0., 0., 0., 0., 0., 0., 0., 0., 0.]],\n",
       "\n",
       "       [[0., 0., 0., 0., 0., 0., 0., 0., 0.],\n",
       "        [0., 0., 0., 0., 0., 0., 0., 0., 0.],\n",
       "        [0., 0., 0., 0., 0., 0., 0., 0., 0.]]])"
      ]
     },
     "execution_count": 53,
     "metadata": {},
     "output_type": "execute_result"
    }
   ],
   "source": [
    "#3d array\n",
    "np.ones((2,2,2,2), dtype = np.int32)             #for 2d and 3d and nd unlike above\n",
    "np.zeros((2,3,9))  #first one (2) is no. of 2d matrix of shape (row =3 and col = 9)\n",
    "\n",
    "\n"
   ]
  },
  {
   "cell_type": "code",
   "execution_count": 61,
   "metadata": {},
   "outputs": [
    {
     "name": "stdout",
     "output_type": "stream",
     "text": [
      "[[[0.77395605 0.43887844]\n",
      "  [0.85859792 0.69736803]\n",
      "  [0.09417735 0.97562235]]\n",
      "\n",
      " [[0.7611397  0.78606431]\n",
      "  [0.12811363 0.45038594]\n",
      "  [0.37079802 0.92676499]]]\n",
      "\n",
      "[[0.77395605 0.43887844 0.85859792]\n",
      " [0.69736803 0.09417735 0.97562235]]\n",
      "\n",
      "[[0.59900797 0.19261428 0.73719039]\n",
      " [0.48632217 0.00886937 0.95183897]]\n"
     ]
    }
   ],
   "source": [
    "\n",
    "from numpy.random import default_rng\n",
    "gg = default_rng(42).random((2,3))     #42 is seed, defaultrng produces numbers from 0 to 1\n",
    "dq =default_rng(42).random((2,3,2))\n",
    "\n",
    "print(dq)\n",
    "print()\n",
    "print(gg)\n",
    "print()\n",
    "print(gg*gg)"
   ]
  },
  {
   "cell_type": "code",
   "execution_count": 81,
   "metadata": {},
   "outputs": [
    {
     "name": "stdout",
     "output_type": "stream",
     "text": [
      "a = [11 12 13 14 15 16] ; b = [11 12 13 14 15 16]\n"
     ]
    },
    {
     "data": {
      "text/plain": [
       "False"
      ]
     },
     "execution_count": 81,
     "metadata": {},
     "output_type": "execute_result"
    }
   ],
   "source": [
    "#When you assign an array or its elements to a new variable, you have to explicitly numpy.copy \n",
    "\n",
    "import numpy as np\n",
    "a = np.array([1, 2, 3, 4, 5, 6])\n",
    "b = a[:]\n",
    "b += 10\n",
    "print('a =', a, '; b =', b)  #output : a = [11 12  3  4  5  6] ; b = [11 12]    both get modified, because its just a view\n",
    "\n",
    "\n",
    "a = np.array([1, 2, 3, 4, 5, 6])\n",
    "c = a[:2].copy()\n",
    "c += 10\n",
    "print('a =', a, ';  c =', c)\n",
    "\n"
   ]
  },
  {
   "cell_type": "code",
   "execution_count": null,
   "metadata": {},
   "outputs": [],
   "source": []
  },
  {
   "cell_type": "code",
   "execution_count": 75,
   "metadata": {},
   "outputs": [
    {
     "data": {
      "text/plain": [
       "array([[ 1.,  1.,  1.,  0.],\n",
       "       [ 1.,  1.,  0.,  1.],\n",
       "       [ 0.,  0., -3.,  0.],\n",
       "       [ 0.,  0.,  0., -4.]])"
      ]
     },
     "execution_count": 75,
     "metadata": {},
     "output_type": "execute_result"
    }
   ],
   "source": [
    "import numpy as np\n",
    "A = np.ones((2, 2))\n",
    "B = np.eye(2, 2)\n",
    "C = np.zeros((2, 2))\n",
    "D = np.diag((-3, -4))\n",
    "np.block([[A, B], [C, D]])"
   ]
  },
  {
   "cell_type": "code",
   "execution_count": 83,
   "metadata": {},
   "outputs": [
    {
     "name": "stdout",
     "output_type": "stream",
     "text": [
      "(2, 3, 1)\n"
     ]
    },
    {
     "data": {
      "text/plain": [
       "array([[[4],\n",
       "        [5],\n",
       "        [6]]])"
      ]
     },
     "execution_count": 83,
     "metadata": {},
     "output_type": "execute_result"
    }
   ],
   "source": [
    "#slicing\n",
    "\n",
    "x = np.array([[[1],[2],[3]], [[4],[5],[6]]])\n",
    "print(x.shape)  #(2, 3, 1) 2 blocks of 3*1 matrix\n",
    "x[1:2]"
   ]
  },
  {
   "cell_type": "code",
   "execution_count": 101,
   "metadata": {},
   "outputs": [
    {
     "name": "stdout",
     "output_type": "stream",
     "text": [
      "[ 4  5  6  7  8  9 10 11 12 13 14]\n",
      "[10 11 12 13 14]\n"
     ]
    }
   ],
   "source": [
    "#sadvanced slicing\n",
    "#1: integer array indexing\n",
    "\n",
    "x = np.array([1,2,3,4,5,6,7,8,9])\n",
    "x[np.array([5,6,2])]  #gives elements at 5,6,7th position in x , this is kinda fancy slicing\n",
    "#o/p: array([6, 7, 3])\n",
    "\n",
    "\n",
    "#boolean indexing\n",
    "\n",
    "z = np.arange(4,15)\n",
    "dd = z > 9\n",
    "print(z)\n",
    "print(z[dd])"
   ]
  },
  {
   "cell_type": "code",
   "execution_count": null,
   "metadata": {},
   "outputs": [
    {
     "name": "stdout",
     "output_type": "stream",
     "text": [
      "{'a': 2, 'b': 9}\n"
     ]
    },
    {
     "ename": "IndexError",
     "evalue": "too many indices for array: array is 0-dimensional, but 1 were indexed",
     "output_type": "error",
     "traceback": [
      "\u001b[1;31m---------------------------------------------------------------------------\u001b[0m",
      "\u001b[1;31mIndexError\u001b[0m                                Traceback (most recent call last)",
      "Cell \u001b[1;32mIn[5], line 4\u001b[0m\n\u001b[0;32m      2\u001b[0m \u001b[38;5;28mprint\u001b[39m(dic)\n\u001b[0;32m      3\u001b[0m z \u001b[38;5;241m=\u001b[39m np\u001b[38;5;241m.\u001b[39marray(dic)\n\u001b[1;32m----> 4\u001b[0m \u001b[43mz\u001b[49m\u001b[43m[\u001b[49m\u001b[38;5;241;43m1\u001b[39;49m\u001b[43m]\u001b[49m\n",
      "\u001b[1;31mIndexError\u001b[0m: too many indices for array: array is 0-dimensional, but 1 were indexed"
     ]
    }
   ],
   "source": [
    "dic ={'a' : 2, 'b':9}\n",
    "print(dic)\n",
    "z = np.array(dic)\n"
   ]
  }
 ],
 "metadata": {
  "kernelspec": {
   "display_name": "Python 3",
   "language": "python",
   "name": "python3"
  },
  "language_info": {
   "codemirror_mode": {
    "name": "ipython",
    "version": 3
   },
   "file_extension": ".py",
   "mimetype": "text/x-python",
   "name": "python",
   "nbconvert_exporter": "python",
   "pygments_lexer": "ipython3",
   "version": "3.12.8"
  }
 },
 "nbformat": 4,
 "nbformat_minor": 2
}
